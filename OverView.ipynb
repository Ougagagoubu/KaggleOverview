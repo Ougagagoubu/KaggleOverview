{
 "cells": [
  {
   "cell_type": "markdown",
   "metadata": {},
   "source": [
    "<font color='grey'>© Maximilian Thorand, 2022</font>\n",
    "\n",
    "# Summary of Kaggle Projects \n",
    "\n",
    "A .ipynb to follow along the Data Science projects of Maximilian Thorand to get a feeling of which techniques were used and an\n",
    "## Table Of Content:\n",
    "* [Titanic Dataset](#titanic)"
   ]
  },
  {
   "cell_type": "markdown",
   "metadata": {},
   "source": [
    "## Titanic Dataset <a class=\"anchor\" id=\"titanic\"></a>\n"
   ]
  },
  {
   "cell_type": "code",
   "execution_count": null,
   "metadata": {},
   "outputs": [],
   "source": []
  }
 ],
 "metadata": {
  "kernelspec": {
   "display_name": "Python 3",
   "language": "python",
   "name": "python3"
  },
  "language_info": {
   "codemirror_mode": {
    "name": "ipython",
    "version": 3
   },
   "file_extension": ".py",
   "mimetype": "text/x-python",
   "name": "python",
   "nbconvert_exporter": "python",
   "pygments_lexer": "ipython3",
   "version": "3.8.5"
  }
 },
 "nbformat": 4,
 "nbformat_minor": 4
}
